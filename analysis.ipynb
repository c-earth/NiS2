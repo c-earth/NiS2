{
 "cells": [
  {
   "cell_type": "markdown",
   "metadata": {},
   "source": [
    "# Load All Data"
   ]
  },
  {
   "cell_type": "code",
   "execution_count": 1,
   "metadata": {},
   "outputs": [],
   "source": [
    "import pickle as pkl\n",
    "\n",
    "with open('./data/4_compiled/2024-06-14-10-43-49.pkl', 'rb') as f:\n",
    "    compiled_datas = pkl.load(f)"
   ]
  },
  {
   "cell_type": "markdown",
   "metadata": {},
   "source": [
    "# Extract Keys"
   ]
  },
  {
   "cell_type": "code",
   "execution_count": 2,
   "metadata": {},
   "outputs": [
    {
     "data": {
      "text/plain": [
       "dict_keys(['coarse', 'coarse_wide', 'fine', 'low_temp', 'near_T1', 'near_T2'])"
      ]
     },
     "execution_count": 2,
     "metadata": {},
     "output_type": "execute_result"
    }
   ],
   "source": [
    "compiled_datas.keys()"
   ]
  },
  {
   "cell_type": "code",
   "execution_count": 3,
   "metadata": {},
   "outputs": [
    {
     "name": "stdout",
     "output_type": "stream",
     "text": [
      "Index(['Time Stamp', 'Comment', 'System Status', 'Puck Temp', 'System Temp',\n",
      "       'Field', 'Pressure', 'Sample Temp', 'Temp Rise', 'Samp HC',\n",
      "       'Samp HC Err', 'Addenda HC', 'Addenda HC Err', 'Total HC',\n",
      "       'Total HC Err', 'Fit Deviation', 'Time Const tau1', 'Time Const tau2',\n",
      "       'Sample Coupling', 'Debye Temp', 'Debye Temp Err', 'Cal Correction',\n",
      "       'Therm Resist', 'Htr Resist', 'Puck Resist', 'Wire Cond', 'Meas Time',\n",
      "       'Temp Squared', 'Samp HC/Temp', 'Addenda Offset HC'],\n",
      "      dtype='object')\n",
      "Index(['Time Stamp', 'Comment', 'System Status', 'Puck Temp', 'System Temp',\n",
      "       'Field', 'Pressure', 'Sample Temp', 'Temp Rise', 'Samp HC',\n",
      "       'Samp HC Err', 'Addenda HC', 'Addenda HC Err', 'Total HC',\n",
      "       'Total HC Err', 'Fit Deviation', 'Time Const tau1', 'Time Const tau2',\n",
      "       'Sample Coupling', 'Debye Temp', 'Debye Temp Err', 'Cal Correction',\n",
      "       'Therm Resist', 'Htr Resist', 'Puck Resist', 'Wire Cond', 'Meas Time',\n",
      "       'Temp Squared', 'Samp HC/Temp', 'Addenda Offset HC'],\n",
      "      dtype='object')\n",
      "Index(['Sample Temp (Kelvin)', 'Samp HC (uJ/K)'], dtype='object')\n",
      "Index(['Time Stamp', 'Comment', 'System Status', 'Puck Temp', 'System Temp',\n",
      "       'Field', 'Pressure', 'Sample Temp', 'Temp Rise', 'Samp HC',\n",
      "       'Samp HC Err', 'Addenda HC', 'Addenda HC Err', 'Total HC',\n",
      "       'Total HC Err', 'Fit Deviation', 'Time Const tau1', 'Time Const tau2',\n",
      "       'Sample Coupling', 'Debye Temp', 'Debye Temp Err', 'Cal Correction',\n",
      "       'Therm Resist', 'Htr Resist', 'Puck Resist', 'Wire Cond', 'Meas Time',\n",
      "       'Temp Squared', 'Samp HC/Temp', 'Addenda Offset HC'],\n",
      "      dtype='object')\n",
      "Index(['Temperature', 'HCTotal', 'HCSample', 'Field'], dtype='object')\n",
      "Index(['Temperature', 'HCTotal', 'HCSample', 'Field', 'Wire Heat Loss',\n",
      "       'T minus Tb', 'Heater Power Heating', 'Heater Power Cooling',\n",
      "       'Heating Rate Heating', 'Heating Rate Cooling'],\n",
      "      dtype='object')\n"
     ]
    }
   ],
   "source": [
    "for compiled_data in compiled_datas.values():\n",
    "    print(compiled_data[list(compiled_data.keys())[0]].keys())"
   ]
  },
  {
   "cell_type": "markdown",
   "metadata": {},
   "source": [
    "# Key Replacement"
   ]
  },
  {
   "cell_type": "code",
   "execution_count": 4,
   "metadata": {},
   "outputs": [],
   "source": [
    "new_keys = ['T', 'C']\n",
    "old_keyss = [['Sample Temp', 'Sample Temp (Kelvin)', 'Temperature'],\n",
    "             ['Samp HC', 'Samp HC (uJ/K)', 'HCSample']]"
   ]
  },
  {
   "cell_type": "code",
   "execution_count": null,
   "metadata": {},
   "outputs": [],
   "source": []
  },
  {
   "cell_type": "markdown",
   "metadata": {},
   "source": [
    "# Raw Plots"
   ]
  }
 ],
 "metadata": {
  "kernelspec": {
   "display_name": "diff2struct",
   "language": "python",
   "name": "python3"
  },
  "language_info": {
   "codemirror_mode": {
    "name": "ipython",
    "version": 3
   },
   "file_extension": ".py",
   "mimetype": "text/x-python",
   "name": "python",
   "nbconvert_exporter": "python",
   "pygments_lexer": "ipython3",
   "version": "3.9.13"
  }
 },
 "nbformat": 4,
 "nbformat_minor": 2
}
